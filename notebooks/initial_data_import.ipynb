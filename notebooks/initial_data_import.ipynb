{
 "cells": [
  {
   "attachments": {},
   "cell_type": "markdown",
   "metadata": {},
   "source": [
    "### Misc. Notes\n",
    "CalFish databases are on ERDDAP > tabledap"
   ]
  },
  {
   "cell_type": "code",
   "execution_count": 3,
   "metadata": {},
   "outputs": [
    {
     "name": "stdout",
     "output_type": "stream",
     "text": [
      "Python version: 2.2.3\n",
      "NumPy version: 2.1.2\n",
      "Pandas version: 2.2.3\n"
     ]
    }
   ],
   "source": [
    "# Test imports\n",
    "import pydap\n",
    "import numpy as np\n",
    "import pandas as pd\n",
    "import xarray as xr\n",
    "import matplotlib.pyplot as plt\n",
    "import seaborn as sns\n",
    "\n",
    "# Verify versions\n",
    "print(f\"Python version: {pd.__version__}\")\n",
    "print(f\"NumPy version: {np.__version__}\")\n",
    "print(f\"Pandas version: {pd.__version__}\")"
   ]
  },
  {
   "cell_type": "code",
   "execution_count": 4,
   "metadata": {},
   "outputs": [
    {
     "name": "stdout",
     "output_type": "stream",
     "text": [
      "Attempting to fetch sample data...\n",
      "\n",
      "Successfully retrieved sample data!\n",
      "\n",
      "Shape of sample: (2387, 5)\n",
      "\n",
      "First few rows:\n",
      "                   time  year            fish         port  landings\n",
      "0  2002-01-16T00:00:00Z  2002  Abalone, Black          All         0\n",
      "1  2002-01-16T00:00:00Z  2002  Abalone, Black       Eureka         0\n",
      "2  2002-01-16T00:00:00Z  2002  Abalone, Black  Los Angeles         0\n",
      "3  2002-01-16T00:00:00Z  2002  Abalone, Black     Monterey         0\n",
      "4  2002-01-16T00:00:00Z  2002  Abalone, Black    San Diego         0\n",
      "\n",
      "Columns:\n",
      "['time', 'year', 'fish', 'port', 'landings']\n"
     ]
    }
   ],
   "source": [
    "import requests\n",
    "import pandas as pd\n",
    "from datetime import datetime\n",
    "from io import StringIO  # Add this import\n",
    "\n",
    "# Use the direct CSV endpoint which is typically faster than DAP\n",
    "base_url = \"https://upwell.pfeg.noaa.gov/erddap/tabledap/erdCAMarCatLM.csv\"\n",
    "\n",
    "# First just get a small sample to test (one month of data)\n",
    "test_query = f\"{base_url}?time,year,fish,port,landings&time>=2002-01-01&time<=2002-02-01\"\n",
    "\n",
    "try:\n",
    "    # Set a reasonable timeout\n",
    "    print(\"Attempting to fetch sample data...\")\n",
    "    response = requests.get(test_query, timeout=30)\n",
    "    \n",
    "    if response.status_code == 200:\n",
    "        # Convert to pandas DataFrame\n",
    "        df = pd.read_csv(StringIO(response.text), skiprows=[1])  # Skip units row\n",
    "        print(\"\\nSuccessfully retrieved sample data!\")\n",
    "        print(f\"\\nShape of sample: {df.shape}\")\n",
    "        print(\"\\nFirst few rows:\")\n",
    "        print(df.head())\n",
    "        \n",
    "        # Get column info\n",
    "        print(\"\\nColumns:\")\n",
    "        print(df.columns.tolist())\n",
    "        \n",
    "    else:\n",
    "        print(f\"Failed to retrieve data. Status code: {response.status_code}\")\n",
    "        print(f\"Response text: {response.text[:500]}\")  # Print first 500 chars of response\n",
    "        \n",
    "except requests.exceptions.Timeout:\n",
    "    print(\"Request timed out - try again or reduce the time range\")\n",
    "except Exception as e:\n",
    "    print(f\"Error: {e}\")"
   ]
  },
  {
   "cell_type": "code",
   "execution_count": 5,
   "metadata": {},
   "outputs": [
    {
     "name": "stdout",
     "output_type": "stream",
     "text": [
      "Downloading full dataset...\n",
      "\n",
      "Full dataset retrieved!\n",
      "Shape of dataset: (2148300, 5)\n",
      "\n",
      "Sample of data:\n",
      "                   time  year            fish port  landings\n",
      "0  1928-01-16T00:00:00Z  1928  Abalone, Black  All         0\n",
      "1  1928-02-16T00:00:00Z  1928  Abalone, Black  All         0\n",
      "2  1928-03-16T00:00:00Z  1928  Abalone, Black  All         0\n",
      "3  1928-04-16T00:00:00Z  1928  Abalone, Black  All         0\n",
      "4  1928-05-16T00:00:00Z  1928  Abalone, Black  All         0\n",
      "\n",
      "Dataset Information:\n",
      "Number of unique years: 75\n",
      "Number of unique fish species: 341\n",
      "Number of unique ports: 7\n",
      "Total landings (pounds): 79,628,657,334\n"
     ]
    }
   ],
   "source": [
    "import requests\n",
    "import pandas as pd\n",
    "from io import StringIO\n",
    "\n",
    "# Use the direct CSV endpoint\n",
    "base_url = \"https://upwell.pfeg.noaa.gov/erddap/tabledap/erdCAMarCatLM.csv\"\n",
    "\n",
    "# Query for the full dataset\n",
    "full_query = f\"{base_url}?time,year,fish,port,landings&time>=1928-01-16&time<=2002-12-16T00:00:00Z\"\n",
    "\n",
    "try:\n",
    "    print(\"Downloading full dataset...\")\n",
    "    response = requests.get(full_query, timeout=60)  # Increased timeout for full dataset\n",
    "    \n",
    "    if response.status_code == 200:\n",
    "        # Convert to pandas DataFrame\n",
    "        df = pd.read_csv(StringIO(response.text), skiprows=[1])  # Skip units row\n",
    "        \n",
    "        print(\"\\nFull dataset retrieved!\")\n",
    "        print(f\"Shape of dataset: {df.shape}\")\n",
    "        print(\"\\nSample of data:\")\n",
    "        print(df.head())\n",
    "        \n",
    "        # Basic data info\n",
    "        print(\"\\nDataset Information:\")\n",
    "        print(f\"Number of unique years: {df['year'].nunique()}\")\n",
    "        print(f\"Number of unique fish species: {df['fish'].nunique()}\")\n",
    "        print(f\"Number of unique ports: {df['port'].nunique()}\")\n",
    "        print(f\"Total landings (pounds): {df['landings'].sum():,}\")\n",
    "        \n",
    "        # Save to CSV\n",
    "        # output_file = \"california_fish_landings_1928_2002.csv\"\n",
    "        # df.to_csv(output_file, index=False)\n",
    "        # print(f\"\\nData saved to {output_file}\")\n",
    "        \n",
    "    else:\n",
    "        print(f\"Failed to retrieve data. Status code: {response.status_code}\")\n",
    "        print(f\"Response text: {response.text[:500]}\")\n",
    "        \n",
    "except requests.exceptions.Timeout:\n",
    "    print(\"Request timed out. The dataset might be too large for a single download.\")\n",
    "    print(\"Would you like to try downloading in smaller time chunks instead?\")\n",
    "except Exception as e:\n",
    "    print(f\"Error: {e}\")"
   ]
  },
  {
   "cell_type": "code",
   "execution_count": null,
   "metadata": {},
   "outputs": [],
   "source": []
  }
 ],
 "metadata": {
  "kernelspec": {
   "display_name": "pydap",
   "language": "python",
   "name": "python3"
  },
  "language_info": {
   "codemirror_mode": {
    "name": "ipython",
    "version": 3
   },
   "file_extension": ".py",
   "mimetype": "text/x-python",
   "name": "python",
   "nbconvert_exporter": "python",
   "pygments_lexer": "ipython3",
   "version": "3.12.7"
  },
  "orig_nbformat": 4
 },
 "nbformat": 4,
 "nbformat_minor": 2
}
