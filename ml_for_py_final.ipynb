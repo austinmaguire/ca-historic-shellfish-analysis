{
 "cells": [
  {
   "cell_type": "markdown",
   "metadata": {},
   "source": [
    "# Welcome To The Week 7 Project!\n",
    "\n",
    "During this week you will have chance to work with what you have learned on a new set of data.\n",
    "\n",
    "Step 1: Please choose set of data of your choice and build either a classification or a regression model.\n",
    "\n",
    "\n",
    "Step 2: Complete a \"description\" of the data. This is a high level description of the dataset, just like we did in class.\n",
    "\n",
    "Step 3: Complete an \"exploration\" of the data. This is an indepth exploration of the data, using plots. Just like we did in class.\n",
    "\n",
    "Step 4:  Build two models on the data. For example, if you chose the classification dataset, build a decision tree, Naive Bayes or Random Forest .  If you chose the regression dataset, build a linear regression and a decision tree regression model.\n",
    "\n",
    "Step 5: Evaluate the performance of the models using the metrics and diagnostics we used in class.\n",
    "\n",
    "Step 6: Describe and interpret the model, what features did the model use select via regularization or splitting? (I realize we did not cover methods to determine which features are used in the neural network after applying regularization, so you can skip this if you build a neural network). What does the model tell us about the data? For example: Are students more likely to fail if the drink on the weekend? Do increase amounts of fly ash in concrete increase its compressive strength? (I am not asking you to answer these specific questions, these are just examples of the kinds of questions you will want to answer when describing and interpreting the model.\n",
    "\n",
    "\n",
    "Grading: This will be weighted the same as a week quiz. Just apply the methods we have learned in class, with effort and understanding and you should be fine.  Use your own words and code (of course you can modify and use code form the course), I can usually tell when someone is copying a definition or pasting in code you found on stack overflow."
   ]
  },
  {
   "cell_type": "markdown",
   "metadata": {},
   "source": [
    "## Step 1: Load The Data Below\n",
    "(create cells below as needed)"
   ]
  },
  {
   "cell_type": "code",
   "execution_count": null,
   "metadata": {},
   "outputs": [],
   "source": []
  },
  {
   "cell_type": "markdown",
   "metadata": {},
   "source": [
    "## Step 2: Describe The Data Below\n",
    "(create cells below as needed)"
   ]
  },
  {
   "cell_type": "code",
   "execution_count": null,
   "metadata": {},
   "outputs": [],
   "source": []
  },
  {
   "cell_type": "markdown",
   "metadata": {},
   "source": [
    "## Step 3: Explore The Data Below\n",
    "(create cells below as needed)"
   ]
  },
  {
   "cell_type": "code",
   "execution_count": null,
   "metadata": {},
   "outputs": [],
   "source": []
  },
  {
   "cell_type": "markdown",
   "metadata": {},
   "source": [
    "## Step 4: Build The Model Below\n",
    "(create cells below as needed)"
   ]
  },
  {
   "cell_type": "code",
   "execution_count": null,
   "metadata": {},
   "outputs": [],
   "source": []
  },
  {
   "cell_type": "markdown",
   "metadata": {},
   "source": [
    "## Step 5: Evaluate The Model Performance\n",
    "(create cells below as needed)"
   ]
  },
  {
   "cell_type": "code",
   "execution_count": null,
   "metadata": {},
   "outputs": [],
   "source": []
  },
  {
   "cell_type": "markdown",
   "metadata": {},
   "source": [
    "## Step 6: Describe And Interpret The Model\n",
    "(create cells below as needed)"
   ]
  },
  {
   "cell_type": "code",
   "execution_count": null,
   "metadata": {},
   "outputs": [],
   "source": []
  }
 ],
 "metadata": {
  "hide_input": false,
  "kernelspec": {
   "display_name": "Python 3 (ipykernel)",
   "language": "python",
   "name": "python3"
  },
  "language_info": {
   "codemirror_mode": {
    "name": "ipython",
    "version": 3
   },
   "file_extension": ".py",
   "mimetype": "text/x-python",
   "name": "python",
   "nbconvert_exporter": "python",
   "pygments_lexer": "ipython3",
   "version": "3.11.5"
  }
 },
 "nbformat": 4,
 "nbformat_minor": 2
}
